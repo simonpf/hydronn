{
 "cells": [
  {
   "cell_type": "markdown",
   "id": "5a10247c",
   "metadata": {},
   "source": [
    "# A priori statistics and correction"
   ]
  },
  {
   "cell_type": "markdown",
   "id": "b5c6c998",
   "metadata": {},
   "source": [
    "This notebook analyses the a priori statistics of the training data and calculates the correction ratios."
   ]
  },
  {
   "cell_type": "code",
   "execution_count": null,
   "id": "07e8813c",
   "metadata": {},
   "outputs": [],
   "source": [
    "%load_ext autoreload\n",
    "%autoreload 2\n",
    "%matplotlib inline\n",
    "\n",
    "import matplotlib.pyplot as plt\n",
    "import cartopy.crs as ccrs\n",
    "import numpy as np\n",
    "import xarray as xr\n",
    "from hydronn.utils import load_style\n",
    "\n",
    "load_style()"
   ]
  },
  {
   "cell_type": "markdown",
   "id": "98b6c929",
   "metadata": {},
   "source": [
    "## Training data statistics\n",
    "\n",
    "The code below iterates through the training data and calculates the precipitation distributions by month."
   ]
  },
  {
   "cell_type": "code",
   "execution_count": null,
   "id": "2e4243d5",
   "metadata": {},
   "outputs": [],
   "source": [
    "from quantnn.qrnn import QRNN\n",
    "qrnn = QRNN.load(\"/home/simonpf/src/hydronn/models/hydronn.pckl\")\n",
    "bins = qrnn.bins.copy()\n",
    "qrnn = QRNN.load(\"/home/simonpf/src/hydronn/models/hydronn_4_all.pckl\")\n",
    "bins_4 = qrnn.bins.copy()"
   ]
  },
  {
   "cell_type": "code",
   "execution_count": null,
   "id": "9ec22227",
   "metadata": {},
   "outputs": [],
   "source": [
    "from pathlib import Path\n",
    "from hydronn.data.training_data import decompress_and_load\n",
    "training_files = list(Path(\"/home/simonpf/data/hydronn/training_data/\").glob(\"*nc*\"))\n",
    "\n",
    "month_bins = np.arange(0.5, 12.6)\n",
    "counts = np.zeros((12, bins.size - 1))\n",
    "\n",
    "for filename in training_files:\n",
    "    data = decompress_and_load(filename)\n",
    "\n",
    "    sp = data.surface_precip.data.copy()\n",
    "    m = np.tile(data.time_goes.dt.month.data.reshape(-1, 1, 1), (1,) + sp.shape[1:])\n",
    "    # Replace zeros as is done for training.\n",
    "    indices = sp < 1e-2\n",
    "    sp[indices] = 10 ** np.random.uniform(-4, -2, size=indices.sum())\n",
    "    sp = np.maximum(sp, 1e-3)\n",
    "    cts, _, _ = np.histogram2d(m.ravel(), sp.ravel(), bins=(month_bins, bins))\n",
    "    counts += cts\n"
   ]
  },
  {
   "cell_type": "code",
   "execution_count": null,
   "id": "883380d3",
   "metadata": {},
   "outputs": [],
   "source": [
    "gauges = xr.load_dataset(\"/home/simonpf/data/hydronn/gauge_data/data.nc\")\n",
    "start_date = np.datetime64(\"2019-01-01T00:00:00\")\n",
    "end_date = np.datetime64(\"2020-01-01T00:00:00\")\n",
    "mask = (gauges.time >= start_date) * (gauges.time < end_date)\n",
    "gauge_data_training = gauges[{\"time\": mask}]"
   ]
  },
  {
   "cell_type": "code",
   "execution_count": null,
   "id": "b6b027a2",
   "metadata": {},
   "outputs": [],
   "source": [
    "gauge_bins = np.concatenate([\n",
    "    0.2 * np.arange(20) - 0.1 ,\n",
    "    4.1 + 1.0 * np.arange(16),\n",
    "    20.1 + 4.0 * np.arange(20)\n",
    "])\n",
    "n_gauges = gauge_data_training.gauges.size\n",
    "months = gauge_data_training.time.dt.month.data.reshape(-1, 1)\n",
    "months = np.tile(months, (1, n_gauges))\n",
    "sp = gauge_data_training.surface_precip.data\n",
    "counts_gauges, _, _ = np.histogram2d(months.ravel(), sp.ravel(), bins=(month_bins, gauge_bins))"
   ]
  },
  {
   "cell_type": "markdown",
   "id": "49e065fd",
   "metadata": {},
   "source": [
    "## Precipitation distributions"
   ]
  },
  {
   "cell_type": "code",
   "execution_count": null,
   "id": "e4e693e6",
   "metadata": {},
   "outputs": [],
   "source": [
    "from hydronn.utils import adapt_gauge_precip\n",
    "sp = gauges.surface_precip.data\n",
    "mean = sp[sp >= 0.0].mean()\n",
    "mean_adapted = adapt_gauge_precip(sp[sp >= 0.0]).mean()\n",
    "(mean_adapted - mean) / mean"
   ]
  },
  {
   "cell_type": "code",
   "execution_count": null,
   "id": "caedc493",
   "metadata": {},
   "outputs": [],
   "source": [
    "from hydronn.utils import load_style\n",
    "load_style()"
   ]
  },
  {
   "cell_type": "code",
   "execution_count": null,
   "id": "824c6c58",
   "metadata": {},
   "outputs": [],
   "source": [
    " seasons = {\n",
    "    \"DJF\": [11, 0, 1],\n",
    "    \"MAM\": [2, 3, 4],\n",
    "    \"JJA\": [5, 6, 7],\n",
    "    \"SON\": [8, 9, 10]\n",
    "}"
   ]
  },
  {
   "cell_type": "code",
   "execution_count": null,
   "id": "1377151e",
   "metadata": {},
   "outputs": [],
   "source": [
    "import seaborn as sns\n",
    "sns.reset_orig()\n",
    "palette = sns.color_palette(\"twilight_shifted\", 8)\n",
    "colors = [palette[0],\n",
    "          palette[2],\n",
    "          palette[5],\n",
    "          palette[6]]"
   ]
  },
  {
   "cell_type": "code",
   "execution_count": null,
   "id": "a2c1c8fb",
   "metadata": {},
   "outputs": [],
   "source": [
    "f, axs = plt.subplots(1, 3, figsize=(15, 5), gridspec_kw={\"width_ratios\": [1.0, 1.0, 0.3]})\n",
    "\n",
    "ax = axs[0]\n",
    "handles = []\n",
    "x = 0.5 * (bins[1:] + bins[:-1])\n",
    "for i, (name, months) in enumerate(seasons.items()):\n",
    "    y = np.sum(counts[months], axis=0)\n",
    "    y = y / y.sum() / np.diff(bins)\n",
    "    handles += ax.plot(x, y, label=name, c=colors[i])\n",
    "    \n",
    "ax.set_xlim([1e-1, 1e2])\n",
    "ax.set_ylim([1e-5, 1e-1])\n",
    "ax.set_xscale(\"log\")\n",
    "ax.set_yscale(\"log\")\n",
    "ax.set_xlabel(\"Rain rate [$\\si{\\milli \\meter \\per \\hour}$]\")\n",
    "ax.set_ylabel(\"Probability density [$(\\si{\\milli \\meter \\per \\hour})^{-1}$]\")\n",
    "ax.set_title(\"(a) Training data\", loc=\"left\")\n",
    "    \n",
    "ax = axs[1]\n",
    "\n",
    "x = 0.5 * (bins[1:] + bins[:-1])\n",
    "for i, (name, months) in enumerate(seasons.items()):\n",
    "    y = np.sum(counts[months], axis=0)\n",
    "    y = y / y.sum() / np.diff(bins)\n",
    "    handles += ax.plot(x, y, label=name, c=\"grey\", alpha=0.6)\n",
    "\n",
    "handles = []\n",
    "x = 0.5 * (gauge_bins[1:] + gauge_bins[:-1])\n",
    "for i, (name, months) in enumerate(seasons.items()):\n",
    "    y = np.sum(counts_gauges[months], axis=0)\n",
    "    y = y / y.sum() / np.diff(gauge_bins)\n",
    "    handles += ax.plot(x, y, label=name, c=colors[i])\n",
    "\n",
    "    \n",
    "\n",
    "ax.set_xlim([1e-1, 1e2])\n",
    "ax.set_ylim([1e-5, 1e-1])\n",
    "ax.set_xscale(\"log\")\n",
    "ax.set_yscale(\"log\")\n",
    "ax.set_xlabel(\"Rain rate [$\\si{\\milli \\meter \\per \\hour}$]\")\n",
    "ax.set_yticklabels([])\n",
    "ax.set_title(\"(b) Gauge data\", loc=\"left\")\n",
    "\n",
    "ax = axs[2]\n",
    "ax.set_axis_off()\n",
    "ax.legend(handles=handles, loc=\"center left\")\n",
    "\n",
    "f.savefig(\"../plots/training_data_statistics.pdf\")"
   ]
  },
  {
   "cell_type": "markdown",
   "id": "afcdd81e",
   "metadata": {},
   "source": [
    "## Calculate the correction\n",
    "\n",
    "Calculate a priori distributions corresponding to the different error assumptions."
   ]
  },
  {
   "cell_type": "code",
   "execution_count": null,
   "id": "69d16d31",
   "metadata": {},
   "outputs": [],
   "source": [
    "import quantnn.density as qd\n",
    "from hydronn.utils import adapt_gauge_precip\n",
    "sp_gauges = adapt_gauge_precip(gauge_data_training.surface_precip.data)\n",
    "p_a_gauges, _ = np.histogram(sp_gauges, bins=bins, density=True)"
   ]
  },
  {
   "cell_type": "code",
   "execution_count": null,
   "id": "ea60d079",
   "metadata": {},
   "outputs": [],
   "source": [
    "import quantnn.density as qd\n",
    "p_a_gpm = qd.normalize(counts.sum(0), bins)"
   ]
  },
  {
   "cell_type": "code",
   "execution_count": null,
   "id": "01764ee2",
   "metadata": {},
   "outputs": [],
   "source": [
    "p_a_gpm_indep = p_a_gpm.copy()\n",
    "bins[0] = 1e-3\n",
    "for i in range(5):\n",
    "    p_a_gpm_indep = qd.add(p_a_gpm_indep, bins, p_a_gpm, bins, bins)\n",
    "p_a_gpm_indep *= 6.0    \n",
    "# A priori for independence assumption is on different grid.\n",
    "bins_indep = bins / 6.0\n",
    "p_a_gpm_indep = qd.normalize(p_a_gpm_indep, bins_indep, density=True)"
   ]
  },
  {
   "cell_type": "markdown",
   "id": "87891e11",
   "metadata": {},
   "source": [
    "## Calculate correction ratios for all retrieval configurations."
   ]
  },
  {
   "cell_type": "code",
   "execution_count": null,
   "id": "552b443c",
   "metadata": {},
   "outputs": [],
   "source": [
    "r_dep = p_a_gauges / p_a_gpm\n",
    "r_dep[p_a_gpm < 1e-30] = 0.0\n",
    "r_dep = np.minimum(r_dep, 1e3)"
   ]
  },
  {
   "cell_type": "code",
   "execution_count": null,
   "id": "5b4974f9",
   "metadata": {},
   "outputs": [],
   "source": [
    "x = 0.5 * (bins[1:] + bins[:-1])\n",
    "x_indep = 0.5 * (bins_indep[1:] + bins_indep[:-1])\n",
    "p_a_gpm_indep_r = np.interp(x, x_indep, p_a_gpm_indep)\n",
    "r_indep = p_a_gauges / p_a_gpm_indep_r\n",
    "r_indep[p_a_gpm_indep_r < 1e-30] = 0.0\n",
    "r_indep = np.minimum(r_indep, 1e3)"
   ]
  },
  {
   "cell_type": "code",
   "execution_count": null,
   "id": "e9568f46",
   "metadata": {},
   "outputs": [],
   "source": [
    "p = p_a_gauges * np.diff(bins)\n",
    "p_a_gauges_4 = 0.5 * (p[1::2] + p[::2]) / np.diff(bins_4)\n",
    "p = p_a_gpm * np.diff(bins)\n",
    "p_a_gpm_4 = 0.5 * (p[1::2] + p[::2]) / np.diff(bins_4)\n",
    "p = p_a_gpm_indep_r * np.diff(bins)\n",
    "p_a_gpm_indep_4 = 0.5 * (p[1::2] + p[::2]) / np.diff(bins_4)"
   ]
  },
  {
   "cell_type": "code",
   "execution_count": null,
   "id": "8c35cbaa",
   "metadata": {},
   "outputs": [],
   "source": [
    "r_dep_4 = p_a_gauges_4 / p_a_gpm_4\n",
    "r_dep_4[p_a_gpm_4 < 1e-20] = 0.0\n",
    "r_indep_4 = p_a_gauges_4 / p_a_gpm_indep_4\n",
    "r_indep_4[p_a_gpm_indep_4 < 1e-20] = 0.0\n",
    "r_indep_4 = np.minimum(r_indep_4, 1e3)"
   ]
  },
  {
   "cell_type": "code",
   "execution_count": null,
   "id": "50ad00a1",
   "metadata": {},
   "outputs": [],
   "source": [
    "r_dep_4 = p_a_gauges_4 / p_a_gpm_4\n",
    "r_dep_4[p_a_gpm_4 < 1e-20] = 0.0\n",
    "r_dep_4 = np.minimum(r_dep_4, 1e3)"
   ]
  },
  {
   "cell_type": "code",
   "execution_count": null,
   "id": "f9039bdd",
   "metadata": {},
   "outputs": [],
   "source": [
    "dataset = xr.Dataset({\n",
    "    \"ratios_dep\": ((\"bins\",), r_dep),\n",
    "    \"ratios_indep\": ((\"bins\",), r_indep)\n",
    "})\n",
    "dataset.to_netcdf(\"../data/correction.nc\")"
   ]
  },
  {
   "cell_type": "code",
   "execution_count": null,
   "id": "6a0845fe",
   "metadata": {},
   "outputs": [],
   "source": [
    "dataset = xr.Dataset({\n",
    "    \"ratios_dep\": ((\"bins\",), r_dep_4),\n",
    "    \"ratios_indep\": ((\"bins\",), r_indep_4)\n",
    "})\n",
    "dataset.to_netcdf(\"../data/correction_4.nc\")"
   ]
  },
  {
   "cell_type": "markdown",
   "id": "ebfafa54",
   "metadata": {},
   "source": [
    "## Plot correction"
   ]
  },
  {
   "cell_type": "code",
   "execution_count": null,
   "id": "83afbdc6",
   "metadata": {},
   "outputs": [],
   "source": [
    "f, axs = plt.subplots(1, 2, figsize=(10, 5))\n",
    "x = 0.5 * (bins[1:] + bins[:-1])\n",
    "x_indep = 0.5 * (bins_indep[1:] + bins_indep[:-1])\n",
    "x_4 = 0.5 * (bins_4[1:] + bins_4[:-1])\n",
    "\n",
    "ax = axs[0]\n",
    "ax.plot(x, p_a_gauges, c=\"dimgrey\", ls=\"--\", label=\"Gauges\")\n",
    "ax.plot(x, p_a_gpm, c=\"C0\", label=\"Dep.\")\n",
    "ax.plot(x_indep, p_a_gpm_indep, c=\"C1\", label=\"Indep.\")\n",
    "ax.set_xlim([1e-3, 1e2])\n",
    "ax.set_ylim([1e-6, 1e3])\n",
    "ax.set_ylabel(\"PDF [$(\\si{\\milli \\meter \\per \\hour})^{-1}$]\")\n",
    "ax.set_xlabel(\"Precipitation rate [$\\si{\\milli \\meter \\per \\hour}$]\")\n",
    "ax.set_title(\"(a) A priori distribution\", loc=\"left\")\n",
    "ax.legend()\n",
    "\n",
    "ax.set_xscale(\"log\")\n",
    "ax.set_yscale(\"log\")\n",
    "\n",
    "ax = axs[1]\n",
    "ax.plot(x, r_dep)\n",
    "ax.plot(x, r_indep)\n",
    "ax.set_xscale(\"log\")\n",
    "ax.set_yscale(\"log\")\n",
    "ax.set_ylim([1e-1, 1e3])\n",
    "ax.set_ylabel(\"Correction factor\")\n",
    "ax.set_xlabel(\"Precipitation rate [$\\si{\\milli \\meter \\per \\hour}$]\")\n",
    "ax.set_title(\"(b) Correction factors\", loc=\"left\")\n",
    "\n",
    "plt.tight_layout()\n",
    "\n",
    "f.savefig(\"../plots/correction_factors.pdf\")"
   ]
  }
 ],
 "metadata": {
  "kernelspec": {
   "display_name": "Python 3 (ipykernel)",
   "language": "python",
   "name": "python3"
  },
  "language_info": {
   "codemirror_mode": {
    "name": "ipython",
    "version": 3
   },
   "file_extension": ".py",
   "mimetype": "text/x-python",
   "name": "python",
   "nbconvert_exporter": "python",
   "pygments_lexer": "ipython3",
   "version": "3.9.7"
  }
 },
 "nbformat": 4,
 "nbformat_minor": 5
}
