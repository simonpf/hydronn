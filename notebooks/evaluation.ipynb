{
 "cells": [
  {
   "cell_type": "markdown",
   "metadata": {},
   "source": [
    "# Evaluation\n",
    "\n",
    "This notebook evaluates the Hydronn retrievals on the test data."
   ]
  },
  {
   "cell_type": "code",
   "execution_count": null,
   "metadata": {},
   "outputs": [],
   "source": [
    "%load_ext autoreload\n",
    "%autoreload 2\n",
    "import numpy as np\n",
    "import matplotlib.pyplot as plt\n",
    "import cartopy.crs as ccrs\n",
    "import xarray as xr\n",
    "import pickle"
   ]
  },
  {
   "cell_type": "code",
   "execution_count": null,
   "metadata": {},
   "outputs": [],
   "source": [
    "from hydronn.utils import load_style\n",
    "load_style()"
   ]
  },
  {
   "cell_type": "markdown",
   "metadata": {},
   "source": [
    "## Results"
   ]
  },
  {
   "cell_type": "code",
   "execution_count": null,
   "metadata": {},
   "outputs": [],
   "source": [
    "from hydronn.utils import decompress_and_load\n",
    "results_h4_ir = decompress_and_load(\"/home/simonpf/data_2/hydronn/results/test_data/hydronn_4_ir.nc.gz\")\n",
    "results_h4_all = decompress_and_load(\"/home/simonpf/data_2/hydronn/results/test_data/hydronn_4_all.nc.gz\")\n",
    "results_h2 = decompress_and_load(\"/home/simonpf/data_2/hydronn/results/test_data/hydronn_2.nc.gz\")"
   ]
  },
  {
   "cell_type": "code",
   "execution_count": null,
   "metadata": {},
   "outputs": [],
   "source": [
    "results_h4_all = decompress_and_load(\"/home/simonpf/data_2/hydronn/results/test_data/hydronn_4_all.nc.gz\")"
   ]
  },
  {
   "cell_type": "markdown",
   "metadata": {},
   "source": [
    "## Scatter plots"
   ]
  },
  {
   "cell_type": "code",
   "execution_count": null,
   "metadata": {},
   "outputs": [],
   "source": [
    "bins = np.logspace(-3, 2, 101)\n",
    "bins[0] = -1e-3\n",
    "db = np.diff(bins).reshape(-1, 1) * np.diff(bins).reshape(1, -1)\n",
    "\n",
    "sp_true = results_h4_ir.surface_precip_true.data\n",
    "sp = results_h4_ir.surface_precip.data\n",
    "y_h4_ir, _, _ = np.histogram2d(sp_true.ravel(), sp.ravel(), bins=bins)\n",
    "y_h4_ir /= (y_h4_ir * db).sum(axis=1, keepdims=True)\n",
    "\n",
    "sp_true = results_h4_all.surface_precip_true.data\n",
    "sp = results_h4_all.surface_precip.data\n",
    "y_h4_all, _, _ = np.histogram2d(sp_true.ravel(), sp.ravel(), bins=bins)\n",
    "y_h4_all /= (y_h4_all * db).sum(axis=1, keepdims=True)\n",
    "\n",
    "sp_true = results_h2.surface_precip_true.data\n",
    "sp_true = 0.25 * (\n",
    "    sp_true[:, 0::2, 0::2] +\n",
    "    sp_true[:, 0::2, 1::2] +\n",
    "    sp_true[:, 1::2, 0::2] +\n",
    "    sp_true[:, 1::2, 1::2]\n",
    ")\n",
    "sp = results_h2.surface_precip.data\n",
    "sp = 0.25 * (\n",
    "    sp[:, 0::2, 0::2] +\n",
    "    sp[:, 0::2, 1::2] +\n",
    "    sp[:, 1::2, 0::2] +\n",
    "    sp[:, 1::2, 1::2]\n",
    ")\n",
    "y_h2, _, _ = np.histogram2d(sp_true.ravel(), sp.ravel(), bins=bins)\n",
    "y_h2 /= (y_h2 * db).sum(axis=1, keepdims=True)"
   ]
  },
  {
   "cell_type": "code",
   "execution_count": null,
   "metadata": {},
   "outputs": [],
   "source": [
    "from matplotlib.colors import LogNorm\n",
    "f, axs = plt.subplots(1, 4, figsize=(16, 5),\n",
    "                      gridspec_kw={\"width_ratios\": [1.0, 1.0, 1.0, 0.1]})\n",
    "norm = LogNorm(1e-2, 1e2)\n",
    "levels = np.logspace(-2, 2, 11)\n",
    "\n",
    "#\n",
    "# Hydronn 2, IR\n",
    "#\n",
    "\n",
    "ax = axs[0]\n",
    "x = 0.5 * (bins[1:] + bins[:-1])\n",
    "ax.contourf(x, x, y_h4_ir.T, norm=norm, cmap=\"GnBu\", levels=levels, zorder=-20)\n",
    "ax.plot(bins, bins, ls=\"--\", c=\"grey\")\n",
    "mean = np.sum(y_h4_ir *  db * x, axis=1)\n",
    "ax.plot(x, mean, c=\"darkviolet\", label=\"Conditional mean\")\n",
    "ax.legend()\n",
    "\n",
    "ax.set_xscale(\"log\")\n",
    "ax.set_yscale(\"log\")\n",
    "ax.set_xlim(0.2, 100)\n",
    "ax.set_ylim(0.2, 100)\n",
    "ax.set_aspect(1.0)\n",
    "\n",
    "ax.set_title(r\"(a) Hydronn$_{4, \\text{IR}}$\", loc=\"left\")\n",
    "ax.set_ylabel(\"Retrieved precipitation [$\\si{\\milli \\meter \\per \\hour}$]\")\n",
    "ax.set_xlabel(\"True precipitation [$\\si{\\milli \\meter \\per \\hour}$]\")\n",
    "\n",
    "#\n",
    "# Hydronn 2, All\n",
    "#\n",
    "\n",
    "ax = axs[1]\n",
    "ax.contourf(x, x, y_h4_all.T, norm=norm, cmap=\"GnBu\", levels=levels, zorder=-20)\n",
    "ax.plot(bins, bins, ls=\"--\", c=\"grey\")\n",
    "\n",
    "mean = np.sum(y_h4_all *  db * x, axis=1)\n",
    "ax.plot(x, mean, c=\"darkviolet\")\n",
    "\n",
    "ax.set_xscale(\"log\")\n",
    "ax.set_yscale(\"log\")\n",
    "ax.set_aspect(1.0)\n",
    "ax.set_xlim(0.2, 100)\n",
    "ax.set_ylim(0.2, 100)\n",
    "\n",
    "ax.set_title(r\"(a) Hydronn$_{4, \\text{All}}$\", loc=\"left\")\n",
    "ax.set_xlabel(\"True precipitation [$\\si{\\milli \\meter \\per \\hour}$]\")\n",
    "\n",
    "#\n",
    "# Hydronn 4, All\n",
    "#\n",
    "\n",
    "ax = axs[2]\n",
    "m = ax.contourf(x, x, y_h2.T, norm=norm, cmap=\"GnBu\", levels=levels, zorder=-20)\n",
    "ax.plot(bins, bins, ls=\"--\", c=\"grey\")\n",
    "\n",
    "mean = np.sum(y_h2 *  db * x, axis=1)\n",
    "ax.plot(x, mean, c=\"darkviolet\")\n",
    "\n",
    "ax.set_title(r\"(a) Hydronn$_{2, \\text{All}}$\", loc=\"left\")\n",
    "ax.set_xlabel(\"True precipitation [$\\si{\\milli \\meter \\per \\hour}$]\")\n",
    "\n",
    "ax.set_xscale(\"log\")\n",
    "ax.set_yscale(\"log\")\n",
    "ax.set_aspect(1.0)\n",
    "ax.set_xlim(0.2, 100)\n",
    "ax.set_ylim(0.2, 100)\n",
    "\n",
    "ax = axs[3]\n",
    "plt.colorbar(m, cax=ax, label=r\"$p(\\text{retrieved precip.}|\\text{true precip.})$\")\n",
    "\n",
    "f.savefig(\"../plots/evaluation_scatter.png\", dpi=300, bbox_inches=\"tight\")"
   ]
  },
  {
   "cell_type": "markdown",
   "metadata": {},
   "source": [
    "## Calibration\n",
    "\n",
    "Calibration is currently off because training data contains values that are smaller than the smallest bin."
   ]
  },
  {
   "cell_type": "code",
   "execution_count": null,
   "metadata": {},
   "outputs": [],
   "source": [
    "quantiles = [\n",
    "    0.01, 0.05, 0.1, 0.2,\n",
    "    0.3, 0.4, 0.5, 0.6,\n",
    "    0.7, 0.8, 0.9, 0.95,\n",
    "    0.99, 0.999\n",
    "]"
   ]
  },
  {
   "cell_type": "code",
   "execution_count": null,
   "metadata": {},
   "outputs": [],
   "source": [
    "valid.shape"
   ]
  },
  {
   "cell_type": "code",
   "execution_count": null,
   "metadata": {},
   "outputs": [],
   "source": [
    "sp_true = results_h4.surface_precip_true.data\n",
    "valid = sp_true >= 0\n",
    "sp_true = sp_true[valid]\n",
    "qs = results_h4.surface_precip_quantiles.data[valid]\n",
    "\n",
    "cal_h4 = []\n",
    "for i in range(qs.shape[-1]):\n",
    "    cal_h4.append((sp_true <= qs[..., i]).mean())\n",
    "    \n",
    "sp_true = results_h2.surface_precip_true.data\n",
    "valid = sp_true >= 0\n",
    "qs = results_h2.surface_precip_quantiles.data\n",
    "sp_true = sp_true[valid]\n",
    "qs = results_h2.surface_precip_quantiles.data[valid]\n",
    "\n",
    "cal_h2 = []\n",
    "for i in range(qs.shape[-1]):\n",
    "    cal_h2.append((sp_true <= qs[..., i]).mean())"
   ]
  },
  {
   "cell_type": "code",
   "execution_count": null,
   "metadata": {},
   "outputs": [],
   "source": [
    "plt.plot(quantiles, cal_h4)\n",
    "plt.plot(quantiles, cal_h2)\n",
    "plt.plot(quantiles, quantiles, c=\"grey\", ls=\"--\")"
   ]
  },
  {
   "cell_type": "markdown",
   "metadata": {},
   "source": [
    "## Error statistics\n",
    "\n",
    "- Calculates error statistics:\n",
    "    - Bias, MAE, MSE, CRPS\n",
    "    \n"
   ]
  },
  {
   "cell_type": "code",
   "execution_count": null,
   "metadata": {},
   "outputs": [],
   "source": [
    "from quantnn import quantiles as qs\n",
    "\n",
    "# Hydronn 4 all\n",
    "sp_true = results_h4_all.surface_precip_true.data\n",
    "valid = sp_true >= 0\n",
    "sp_true = sp_true[valid]\n",
    "sp = results_h4_all.surface_precip.data[valid]\n",
    "sp_qs = results_h4_all.surface_precip_quantiles.data[valid]\n",
    "bias_h4_all = np.mean(sp_true - sp)\n",
    "mae_h4_all = np.mean(np.abs(sp_true - sp))\n",
    "mse_h4_all = np.mean(np.abs(sp_true - sp) ** 2)\n",
    "crps_h4_all = np.mean(qs.crps(sp_qs, sp, np.array(quantiles)))\n",
    "corr_h4_all = np.corrcoef(x=sp, y=sp_true)[0, 1]\n",
    "\n",
    "# Hydronn 4 ir\n",
    "sp_true = results_h4_ir.surface_precip_true.data\n",
    "valid = sp_true >= 0\n",
    "sp_true = sp_true[valid]\n",
    "sp = results_h4_ir.surface_precip.data[valid]\n",
    "sp_qs = results_h4_ir.surface_precip_quantiles.data[valid]\n",
    "bias_h4_ir = np.mean(sp_true - sp)\n",
    "mae_h4_ir = np.mean(np.abs(sp_true - sp))\n",
    "mse_h4_ir = np.mean(np.abs(sp_true - sp) ** 2)\n",
    "crps_h4_ir = np.mean(qs.crps(sp_qs, sp, np.array(quantiles)))\n",
    "corr_h4_ir = np.corrcoef(x=sp, y=sp_true)[0, 1]\n",
    "\n",
    "# Hydronn 2 all\n",
    "sp_true = results_h2.surface_precip_true.data\n",
    "valid = sp_true >= 0\n",
    "sp_true = sp_true[valid]\n",
    "sp = results_h2.surface_precip.data[valid]\n",
    "sp_qs = results_h2.surface_precip_quantiles.data[valid]\n",
    "bias_h2 = np.mean(sp_true - sp)\n",
    "mae_h2 = np.mean(np.abs(sp_true - sp))\n",
    "mse_h2 = np.mean(np.abs(sp_true - sp) ** 2)\n",
    "crps_h2 = np.mean(qs.crps(sp_qs, sp, np.array(quantiles)))\n",
    "corr_h2 = np.corrcoef(x=sp, y=sp_true)[0, 1]"
   ]
  },
  {
   "cell_type": "code",
   "execution_count": null,
   "metadata": {},
   "outputs": [],
   "source": [
    "print(rf\"\"\"\n",
    "\\begin{{tabular}}{{|l||r|r|r|r|}}\n",
    "  Algorithm & Bias [$\\unit{{mm\\ h^{{-1}}}}$] & MAE [$\\unit{{mm\\ h^{{-1}}}}$] & MSE [$\\unit{{(mm\\ h^{{-1}})^{{2}}}}$]& CRPS & Correlation  \\\\\n",
    "  \\hline\n",
    "  \\hydronnfourir & {bias_h4_ir:2.4f} & {mae_h4_ir:2.4f} & {mse_h4_ir:2.4f} & {crps_h4_ir:2.4f} & {corr_h4_ir:2.4f} \\\\\n",
    "  \\hydronnfourall & {bias_h4_all:2.4f} & {mae_h4_all:2.4f} & {mse_h4_all:2.4f} & {crps_h4_all:2.4f} & {corr_h4_all:2.4f} \\\\\n",
    "  \\hydronntwo & {bias_h2:2.4f} & {mae_h2:2.4f} & {mse_h2:2.4f} & {crps_h2:2.4f} & {corr_h2:2.4f} \\\\\n",
    " \\end{{tabular}} \n",
    " \"\"\")"
   ]
  },
  {
   "cell_type": "code",
   "execution_count": null,
   "metadata": {},
   "outputs": [],
   "source": []
  }
 ],
 "metadata": {
  "kernelspec": {
   "display_name": "Python 3 (ipykernel)",
   "language": "python",
   "name": "python3"
  },
  "language_info": {
   "codemirror_mode": {
    "name": "ipython",
    "version": 3
   },
   "file_extension": ".py",
   "mimetype": "text/x-python",
   "name": "python",
   "nbconvert_exporter": "python",
   "pygments_lexer": "ipython3",
   "version": "3.9.7"
  }
 },
 "nbformat": 4,
 "nbformat_minor": 4
}
